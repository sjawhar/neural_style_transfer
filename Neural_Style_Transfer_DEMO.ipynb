{
 "cells": [
  {
   "cell_type": "markdown",
   "metadata": {},
   "source": [
    "# Style Transfer with Deep Neural Networks\n",
    "\n",
    "\n",
    "In this notebook, we’ll *recreate* a style transfer method that is outlined in the paper, [Image Style Transfer Using Convolutional Neural Networks, by Gatys](https://www.cv-foundation.org/openaccess/content_cvpr_2016/papers/Gatys_Image_Style_Transfer_CVPR_2016_paper.pdf) in PyTorch.\n",
    "\n",
    "<img src='notebook_ims/vgg19_convlayers.png' width=80% />"
   ]
  },
  {
   "cell_type": "code",
   "execution_count": 4,
   "metadata": {},
   "outputs": [
    {
     "name": "stdout",
     "output_type": "stream",
     "text": [
      "--2019-01-19 03:04:39--  http://cdn.masterstudies.com/element_db/37/3737_NUS-ISS.jpg\n",
      "Resolving cdn.masterstudies.com (cdn.masterstudies.com)... 205.185.216.42, 205.185.216.10\n",
      "Connecting to cdn.masterstudies.com (cdn.masterstudies.com)|205.185.216.42|:80... connected.\n",
      "HTTP request sent, awaiting response... 200 OK\n",
      "Length: 238902 (233K) [image/jpeg]\n",
      "Saving to: ‘./images/iss.jpg’\n",
      "\n",
      "./images/iss.jpg    100%[===================>] 233.30K  --.-KB/s    in 0.1s    \n",
      "\n",
      "2019-01-19 03:04:43 (2.25 MB/s) - ‘./images/iss.jpg’ saved [238902/238902]\n",
      "\n",
      "--2019-01-19 03:04:44--  https://deepart-io.s3.amazonaws.com/img/style.jpg\n",
      "Resolving deepart-io.s3.amazonaws.com (deepart-io.s3.amazonaws.com)... 52.218.96.201\n",
      "Connecting to deepart-io.s3.amazonaws.com (deepart-io.s3.amazonaws.com)|52.218.96.201|:443... connected.\n",
      "HTTP request sent, awaiting response... 200 OK\n",
      "Length: 60111 (59K) [image/jpeg]\n",
      "Saving to: ‘images/style.jpg’\n",
      "\n",
      "images/style.jpg    100%[===================>]  58.70K  67.2KB/s    in 0.9s    \n",
      "\n",
      "2019-01-19 03:04:47 (67.2 KB/s) - ‘images/style.jpg’ saved [60111/60111]\n",
      "\n"
     ]
    }
   ],
   "source": [
    "!wget \"http://cdn.masterstudies.com/element_db/37/3737_NUS-ISS.jpg\" -O \"./images/iss.jpg\"\n",
    "\n",
    "!wget \"https://deepart-io.s3.amazonaws.com/img/style.jpg\" -O \"images/style.jpg\""
   ]
  },
  {
   "cell_type": "code",
   "execution_count": 1,
   "metadata": {
    "scrolled": false
   },
   "outputs": [],
   "source": [
    "########\n",
    "from style_transfer import load_image, transfer\n",
    "from torchvision import models\n",
    "import matplotlib.pyplot as plt\n",
    "import torch\n",
    "import torch.optim as optim\n",
    "%matplotlib inline\n",
    "\n",
    "target_img_path = 'images/iss.jpg'\n",
    "style_img_path = 'images/style.jpg'"
   ]
  },
  {
   "cell_type": "code",
   "execution_count": null,
   "metadata": {
    "scrolled": false
   },
   "outputs": [],
   "source": [
    "device_name = \"cuda\" if torch.cuda.is_available() else \"cpu\"\n",
    "device = torch.device(device_name)\n",
    "\n",
    "# LOAD THE INPUT IMAGES:\n",
    "# load in content and style image\n",
    "content = load_image(target_img_path).to(device)\n",
    "# Resize style to match content, makes code easier\n",
    "style = load_image(style_img_path, shape=content.shape[-2:]).to(device)\n",
    "\n",
    "# get the \"features\" portion of VGG19 (we will not need the \"classifier\" portion)\n",
    "vgg = models.vgg19(pretrained=True).features\n",
    "\n",
    "# freeze all VGG parameters since we're only optimizing the target image\n",
    "for param in vgg.parameters():\n",
    "    param.requires_grad_(False)\n",
    "\n",
    "vgg.to(device)\n",
    "\n",
    "# weights for each style layer \n",
    "# weighting earlier layers more will result in *larger* style artifacts\n",
    "# notice we are excluding `conv4_2` our content representation\n",
    "style_weights = {'conv1_1': 1.,\n",
    "                 'conv2_1': 0.8,\n",
    "                 'conv3_1': 0.5,\n",
    "                 'conv4_1': 0.3,\n",
    "                 'conv5_1': 0.1}\n",
    "\n",
    "# you may choose to leave these as is\n",
    "content_weight = 1  # alpha\n",
    "style_weight = 1e6  # beta\n",
    "\n",
    "# iteration hyperparameters\n",
    "optimizer = optim.Adam\n",
    "steps = 2000  # decide how many iterations to update your image (5000)\n",
    "\n",
    "# for displaying the target image, intermittently\n",
    "show_every = 400\n",
    "\n",
    "target = transfer(\n",
    "    device,\n",
    "    style,\n",
    "    content,\n",
    "    vgg,\n",
    "    content_weight,\n",
    "    style_weight,\n",
    "    style_weights,\n",
    "    optimizer,\n",
    "    steps,\n",
    ")\n",
    "        \n",
    "# display content and final, target image\n",
    "fig, (ax1, ax2, ax3) = plt.subplots(1, 3, figsize=(20, 10))\n",
    "ax1.imshow(im_convert(style))\n",
    "ax2.imshow(im_convert(content))\n",
    "ax3.imshow(im_convert(target))\n",
    "\n",
    "fig.save(\"./out/output.jpg\")"
   ]
  },
  {
   "cell_type": "code",
   "execution_count": null,
   "metadata": {},
   "outputs": [],
   "source": []
  }
 ],
 "metadata": {
  "kernelspec": {
   "display_name": "Python 3",
   "language": "python",
   "name": "python3"
  },
  "language_info": {
   "codemirror_mode": {
    "name": "ipython",
    "version": 3
   },
   "file_extension": ".py",
   "mimetype": "text/x-python",
   "name": "python",
   "nbconvert_exporter": "python",
   "pygments_lexer": "ipython3",
   "version": "3.6.7"
  }
 },
 "nbformat": 4,
 "nbformat_minor": 2
}
